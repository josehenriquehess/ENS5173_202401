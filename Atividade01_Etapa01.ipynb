{
 "cells": [
  {
   "cell_type": "markdown",
   "id": "171a8fd5-cb76-4c74-b530-abb089fc58fc",
   "metadata": {},
   "source": [
    "# Aula 02 - Python"
   ]
  },
  {
   "cell_type": "markdown",
   "id": "4df33be4-4de4-486e-89e3-24fb25a75ae9",
   "metadata": {},
   "source": [
    "## Dados numéricos"
   ]
  },
  {
   "cell_type": "code",
   "execution_count": 2,
   "id": "a7675244-28dc-4203-9747-17583166fe52",
   "metadata": {},
   "outputs": [
    {
     "name": "stdout",
     "output_type": "stream",
     "text": [
      "Valor de a = 1\n"
     ]
    },
    {
     "data": {
      "text/plain": [
       "int"
      ]
     },
     "execution_count": 2,
     "metadata": {},
     "output_type": "execute_result"
    }
   ],
   "source": [
    "# Variável inteira\n",
    "a = 1 # Cria a variável a com valor 1\n",
    "print('Valor de a = ' + str(a)) # Imprime um texto \"Valor de a = 1\", onde a é transformado em string para poder somar com um texto\n",
    "type(a) # Imprime o tipo de variável que a é"
   ]
  },
  {
   "cell_type": "code",
   "execution_count": 3,
   "id": "c324011e-e02d-4de6-af80-e4993765e286",
   "metadata": {},
   "outputs": [
    {
     "name": "stdout",
     "output_type": "stream",
     "text": [
      "1.0\n"
     ]
    },
    {
     "data": {
      "text/plain": [
       "float"
      ]
     },
     "execution_count": 3,
     "metadata": {},
     "output_type": "execute_result"
    }
   ],
   "source": [
    "# Variável dupla precisão\n",
    "b = 1.0 # Cria a variável b com valor 1.0\n",
    "print(b) # Imprime o valor de b\n",
    "type(b) # Imprime o tipo de variável que b é"
   ]
  },
  {
   "cell_type": "code",
   "execution_count": 4,
   "id": "34431e21-ee8d-4e70-939f-8d9c99d1a3a9",
   "metadata": {},
   "outputs": [
    {
     "name": "stdout",
     "output_type": "stream",
     "text": [
      "1\n"
     ]
    },
    {
     "data": {
      "text/plain": [
       "int"
      ]
     },
     "execution_count": 4,
     "metadata": {},
     "output_type": "execute_result"
    }
   ],
   "source": [
    "# Converter float para int\n",
    "c = int(b) # Cria a variável c com o valor inteiro da variável b\n",
    "print(c) # Imprime o valor de c\n",
    "type(c) # Imprime o tipo de variável que c é"
   ]
  },
  {
   "cell_type": "code",
   "execution_count": 5,
   "id": "2ac93b3b-95e5-4d7d-8d7b-f082a47da564",
   "metadata": {},
   "outputs": [
    {
     "name": "stdout",
     "output_type": "stream",
     "text": [
      "nan\n"
     ]
    },
    {
     "data": {
      "text/plain": [
       "float"
      ]
     },
     "execution_count": 5,
     "metadata": {},
     "output_type": "execute_result"
    }
   ],
   "source": [
    "# Delacrando nan\n",
    "import numpy as np # Importa a biblioteca numpy e a chama de np\n",
    "d = np.nan # Cria a variável d com valor NaN (Not a Number)\n",
    "print(d) # Imprime o valor de d\n",
    "type(d) # Imprime o tipo de variável que d é"
   ]
  },
  {
   "cell_type": "code",
   "execution_count": 6,
   "id": "ed68eaff-dc1b-452d-aa78-a54ea2f489eb",
   "metadata": {},
   "outputs": [
    {
     "name": "stdout",
     "output_type": "stream",
     "text": [
      "nan\n",
      "nan\n",
      "1.0\n"
     ]
    }
   ],
   "source": [
    "# Operação com NaN\n",
    "e = d*1 # Cria a variável e com o valor de d multiplicado por 1\n",
    "print(e) # Imprime o valor de e\n",
    "e = d+1 # Cria a variável e com o valor de d mais 1\n",
    "print(e) # Imprime o valor de e\n",
    "e = np.nansum([d,1]) # Cria a variável e utilizando o numpy para fazer a soma de d com 1, de forma que ignore se d for NaN\n",
    "print(e) # Imprime o valor de e"
   ]
  },
  {
   "cell_type": "markdown",
   "id": "652f304e-b81f-4f11-8cb3-ee9cb420da0d",
   "metadata": {},
   "source": [
    "## Dados de texto"
   ]
  },
  {
   "cell_type": "code",
   "execution_count": 7,
   "id": "9779e9fb-6cef-471e-851d-ae351f42e81f",
   "metadata": {},
   "outputs": [
    {
     "name": "stdout",
     "output_type": "stream",
     "text": [
      "Fábio\n",
      "Gabriel\n",
      "FábioGabriel\n",
      "Fábio Gabriel\n"
     ]
    }
   ],
   "source": [
    "# Declaração de variável texto\n",
    "f = 'Fábio' # Cria a variável f com nome Fábio\n",
    "g = 'Gabriel' # Cria a variável f com nome Gabriel\n",
    "print(f) # Imprime o nome de f\n",
    "print(g) # Imprime o nome de g\n",
    "print(f+g) # Imprime o nome de f junto de g\n",
    "print(f+' '+g) # Imprime o nome de f junto de g, mas com um espaço entre eles"
   ]
  },
  {
   "cell_type": "markdown",
   "id": "7e55b2a0-e474-4f30-bf72-957bb4f1bf34",
   "metadata": {},
   "source": [
    "## Dados tipo bool - lógica"
   ]
  },
  {
   "cell_type": "code",
   "execution_count": 8,
   "id": "64dadbe9-4f91-425d-aa86-76af09b28029",
   "metadata": {},
   "outputs": [
    {
     "data": {
      "text/plain": [
       "True"
      ]
     },
     "execution_count": 8,
     "metadata": {},
     "output_type": "execute_result"
    }
   ],
   "source": [
    "a == 1 # Imprime se a é igual a 1, se sim, é True, se não, é False"
   ]
  },
  {
   "cell_type": "code",
   "execution_count": 9,
   "id": "2125754e-b99a-42c1-8d46-b905031702c5",
   "metadata": {},
   "outputs": [
    {
     "name": "stdout",
     "output_type": "stream",
     "text": [
      "True\n"
     ]
    },
    {
     "data": {
      "text/plain": [
       "bool"
      ]
     },
     "execution_count": 9,
     "metadata": {},
     "output_type": "execute_result"
    }
   ],
   "source": [
    "h = (a==1) # Cria a variável h com valor de teste de lógica se a é igual a 1, se sim, h é True, se não, h é False\n",
    "print(h) # Imprime o valor de h\n",
    "type(h) # Imprime o tipo da variável que h é"
   ]
  },
  {
   "cell_type": "code",
   "execution_count": 11,
   "id": "9ff80086-22c0-4229-bded-eddc34d0ebc8",
   "metadata": {},
   "outputs": [
    {
     "data": {
      "text/plain": [
       "bool"
      ]
     },
     "execution_count": 11,
     "metadata": {},
     "output_type": "execute_result"
    }
   ],
   "source": [
    "i = True # Cria a variável i com valor True\n",
    "type(i) # Imprime o tipo de variável que i é"
   ]
  },
  {
   "cell_type": "code",
   "execution_count": 12,
   "id": "275ebe35-7da2-4225-b265-c35ca55b1f4d",
   "metadata": {},
   "outputs": [
    {
     "data": {
      "text/plain": [
       "str"
      ]
     },
     "execution_count": 12,
     "metadata": {},
     "output_type": "execute_result"
    }
   ],
   "source": [
    "ii = 'True' # Cria a variável ii com valor de texto True\n",
    "type(ii) # Imprime o tipo de variável que ii é"
   ]
  },
  {
   "cell_type": "markdown",
   "id": "3fc031a8-3ce7-43c3-97be-a3ba209103c0",
   "metadata": {},
   "source": [
    "### Operação de comparação"
   ]
  },
  {
   "cell_type": "code",
   "execution_count": 13,
   "id": "2b2a6055-a83a-4e69-9a1d-dbcdfc150f87",
   "metadata": {},
   "outputs": [
    {
     "data": {
      "text/plain": [
       "True"
      ]
     },
     "execution_count": 13,
     "metadata": {},
     "output_type": "execute_result"
    }
   ],
   "source": [
    "# Operação ==\n",
    "a==b # Imprime True se a é igual a b, False se a é diferente de b"
   ]
  },
  {
   "cell_type": "code",
   "execution_count": 14,
   "id": "55107798-3627-4341-8a4e-64786e9fd936",
   "metadata": {},
   "outputs": [
    {
     "data": {
      "text/plain": [
       "False"
      ]
     },
     "execution_count": 14,
     "metadata": {},
     "output_type": "execute_result"
    }
   ],
   "source": [
    "# Operação ><\n",
    "a>b # Imprime True se a é maior que b, False se a não é maior que b"
   ]
  },
  {
   "cell_type": "code",
   "execution_count": 15,
   "id": "e3c690d0-6210-4469-9a40-2923999381c7",
   "metadata": {},
   "outputs": [
    {
     "data": {
      "text/plain": [
       "False"
      ]
     },
     "execution_count": 15,
     "metadata": {},
     "output_type": "execute_result"
    }
   ],
   "source": [
    "# Operação !=\n",
    "a!=b # Imprime True se a é diferente de b, False se a é igual a b"
   ]
  },
  {
   "cell_type": "code",
   "execution_count": 16,
   "id": "f81ddd74-cad2-4c75-99df-9cc62dfe3df1",
   "metadata": {},
   "outputs": [
    {
     "data": {
      "text/plain": [
       "True"
      ]
     },
     "execution_count": 16,
     "metadata": {},
     "output_type": "execute_result"
    }
   ],
   "source": [
    "# Operação >= ou <=\n",
    "a>=b # Imprime True se a é maior ou igual a b, False se a não é maior ou igual a b"
   ]
  },
  {
   "cell_type": "code",
   "execution_count": 17,
   "id": "bf4e3a94-dfda-42e3-b67f-7b535da45ad0",
   "metadata": {},
   "outputs": [
    {
     "data": {
      "text/plain": [
       "2.0"
      ]
     },
     "execution_count": 17,
     "metadata": {},
     "output_type": "execute_result"
    }
   ],
   "source": [
    "# Soma\n",
    "a+b # Imprime o valor de a mais b"
   ]
  },
  {
   "cell_type": "code",
   "execution_count": 18,
   "id": "e46aa96f-45a3-40e8-b025-b8d0404a565d",
   "metadata": {},
   "outputs": [
    {
     "name": "stdout",
     "output_type": "stream",
     "text": [
      "2.0\n"
     ]
    }
   ],
   "source": [
    "# Soma e atribui valor\n",
    "ab = a+b # Cria a variável ab com valor da variável a mais variável b\n",
    "print(ab) # Imprime o valor da variável ab"
   ]
  },
  {
   "cell_type": "code",
   "execution_count": 19,
   "id": "de62b23c-403f-447e-89e2-9afb159979b9",
   "metadata": {},
   "outputs": [
    {
     "name": "stdout",
     "output_type": "stream",
     "text": [
      "Não use l como nome de variável\n",
      "1.0\n"
     ]
    }
   ],
   "source": [
    "# Multiplicação \n",
    "l = a*b # Não use l como variável, também cria a variável l com a multiplicação de a com b\n",
    "print(\"Não use l como nome de variável\") # Imprime o texto: Não use l como nome de variável\n",
    "j = a*b # Cria a variável j com a multiplicação de a com b\n",
    "print(j) # Imprime o valor da variável j"
   ]
  },
  {
   "cell_type": "code",
   "execution_count": 20,
   "id": "7cf7802e-077e-466d-a5e0-d17866c635c8",
   "metadata": {},
   "outputs": [
    {
     "data": {
      "text/plain": [
       "1.0"
      ]
     },
     "execution_count": 20,
     "metadata": {},
     "output_type": "execute_result"
    }
   ],
   "source": [
    "# Divisão\n",
    "a/b # Imprime o valor de a dividido por b"
   ]
  },
  {
   "cell_type": "code",
   "execution_count": 21,
   "id": "ceb33fd1-f7e6-4663-a69a-12cc5a937915",
   "metadata": {},
   "outputs": [
    {
     "data": {
      "text/plain": [
       "25"
      ]
     },
     "execution_count": 21,
     "metadata": {},
     "output_type": "execute_result"
    }
   ],
   "source": [
    "## Potência\n",
    "5**2 # Imprime o valor de 5 elevado a 2"
   ]
  },
  {
   "cell_type": "code",
   "execution_count": 23,
   "id": "021d18a8-738e-4ddc-bf6b-c8b5afa43262",
   "metadata": {},
   "outputs": [
    {
     "data": {
      "text/plain": [
       "22026.465794806718"
      ]
     },
     "execution_count": 23,
     "metadata": {},
     "output_type": "execute_result"
    }
   ],
   "source": [
    "# Operações matemáticas com a biblioteca math\n",
    "import math # Importa a biblioteca math\n",
    "\n",
    "math.exp(10) # Com a biblioteca math, imprime o valor do número de Euler elevado a 10"
   ]
  },
  {
   "cell_type": "code",
   "execution_count": 24,
   "id": "6b90f573-7fa5-4f37-bf9d-a39565ee9946",
   "metadata": {},
   "outputs": [
    {
     "data": {
      "text/plain": [
       "1.0"
      ]
     },
     "execution_count": 24,
     "metadata": {},
     "output_type": "execute_result"
    }
   ],
   "source": [
    "math.exp(0) # Com a biblioteca math, imprime o valor do número de Euler elevado a 0"
   ]
  },
  {
   "cell_type": "code",
   "execution_count": 25,
   "id": "4c2ced05-fd2b-438b-af51-15350e4ee77c",
   "metadata": {},
   "outputs": [
    {
     "data": {
      "text/plain": [
       "2.718281828459045"
      ]
     },
     "execution_count": 25,
     "metadata": {},
     "output_type": "execute_result"
    }
   ],
   "source": [
    "math.exp(a) # Com a biblioteca math, imprime o valor do número de Euler elevado à variável a"
   ]
  },
  {
   "cell_type": "code",
   "execution_count": 26,
   "id": "95700ec6-abec-455b-a848-a257972cf928",
   "metadata": {},
   "outputs": [
    {
     "data": {
      "text/plain": [
       "4.5399929762484854e-05"
      ]
     },
     "execution_count": 26,
     "metadata": {},
     "output_type": "execute_result"
    }
   ],
   "source": [
    "math.exp(-10) # Com a biblioteca math, imprime o valor do número de Euler elevado a -10"
   ]
  },
  {
   "cell_type": "code",
   "execution_count": 31,
   "id": "8d5c636d-296d-4fb7-913a-80964a6b2503",
   "metadata": {},
   "outputs": [
    {
     "data": {
      "text/plain": [
       "0.0"
      ]
     },
     "execution_count": 31,
     "metadata": {},
     "output_type": "execute_result"
    }
   ],
   "source": [
    "import math as mt # Importa a biblioteca math e a chama de mt\n",
    "mt.log(c) # Com a biblioteca math, imprime o valor do logaritmo natural da variável c (1)"
   ]
  },
  {
   "cell_type": "code",
   "execution_count": 32,
   "id": "c1787627-3998-4d95-b36c-e4faa48a3b1a",
   "metadata": {},
   "outputs": [
    {
     "data": {
      "text/plain": [
       "2.0"
      ]
     },
     "execution_count": 32,
     "metadata": {},
     "output_type": "execute_result"
    }
   ],
   "source": [
    "mt.log10(100) # Com a biblioteca math, imprime o valor do logaritmo na base 10 de 100"
   ]
  },
  {
   "cell_type": "markdown",
   "id": "c0168c53-07d4-4b4c-8bbe-234e6b618054",
   "metadata": {},
   "source": [
    "## Listas"
   ]
  },
  {
   "cell_type": "code",
   "execution_count": 33,
   "id": "6c804c61-447d-41c8-b7f2-d49d333b3a53",
   "metadata": {},
   "outputs": [
    {
     "name": "stdout",
     "output_type": "stream",
     "text": [
      "[1, 2, 3]\n"
     ]
    }
   ],
   "source": [
    "myFirstList = [1,2,3] # Cria uma lista com os valores 1,2,3\n",
    "print(myFirstList) # Imprime a lista com seus valores"
   ]
  },
  {
   "cell_type": "code",
   "execution_count": 34,
   "id": "976fc3a3-f2c3-48b1-8477-f0cc9b58507c",
   "metadata": {},
   "outputs": [
    {
     "name": "stdout",
     "output_type": "stream",
     "text": [
      "1\n",
      "3\n"
     ]
    }
   ],
   "source": [
    "# Acessando valores de lista pelo index\n",
    "print(myFirstList[0]) # Imprime o primeiro valor da lista myFirstList\n",
    "print(myFirstList[2]) # Imprime o terceiro valor da lista myFirstList"
   ]
  },
  {
   "cell_type": "code",
   "execution_count": 35,
   "id": "10ec260c-c908-438f-b988-63d593d09e84",
   "metadata": {},
   "outputs": [
    {
     "data": {
      "text/plain": [
       "False"
      ]
     },
     "execution_count": 35,
     "metadata": {},
     "output_type": "execute_result"
    }
   ],
   "source": [
    "myFirstList==a # Imprime se a lista myFirstList é igual a a, se sim, imprime True, se não, imprime False"
   ]
  },
  {
   "cell_type": "code",
   "execution_count": 36,
   "id": "811d2c80-32d2-41a6-a698-82c1e950f2ae",
   "metadata": {},
   "outputs": [
    {
     "data": {
      "text/plain": [
       "True"
      ]
     },
     "execution_count": 36,
     "metadata": {},
     "output_type": "execute_result"
    }
   ],
   "source": [
    "myFirstList[0]==a # Imprime se o primeiro valor da lista myFirstList é igual a variável a, se sim, imprime True, se não, imprime False"
   ]
  },
  {
   "cell_type": "code",
   "execution_count": 37,
   "id": "e4cfdfab-06dc-4e48-9060-fcb5db49a3ce",
   "metadata": {},
   "outputs": [
    {
     "name": "stdout",
     "output_type": "stream",
     "text": [
      "[1, 1, 'c']\n"
     ]
    }
   ],
   "source": [
    "mySecList = [1,a,'c'] # Cria a lista mySecList com valores de 1, variável a, e texto 'c'\n",
    "print(mySecList) # Imprime a lista com seus valores"
   ]
  },
  {
   "cell_type": "code",
   "execution_count": 38,
   "id": "42c1682c-1f55-4ed9-a04a-58f231c5af36",
   "metadata": {},
   "outputs": [
    {
     "data": {
      "text/plain": [
       "list"
      ]
     },
     "execution_count": 38,
     "metadata": {},
     "output_type": "execute_result"
    }
   ],
   "source": [
    "type(mySecList) # Imprime o tipo de classe que mySecList é"
   ]
  },
  {
   "cell_type": "code",
   "execution_count": 39,
   "id": "eb5ee14d-c960-45ca-b9dd-e2fcfe513196",
   "metadata": {},
   "outputs": [
    {
     "data": {
      "text/plain": [
       "str"
      ]
     },
     "execution_count": 39,
     "metadata": {},
     "output_type": "execute_result"
    }
   ],
   "source": [
    "type(mySecList[2]) # Imprime o tipo de classe que o terceiro valor da lista mySecList é"
   ]
  },
  {
   "cell_type": "code",
   "execution_count": 40,
   "id": "147be05f-b21f-4d10-bc3a-e34c86376ad7",
   "metadata": {},
   "outputs": [
    {
     "data": {
      "text/plain": [
       "int"
      ]
     },
     "execution_count": 40,
     "metadata": {},
     "output_type": "execute_result"
    }
   ],
   "source": [
    "type(mySecList[1]) # Imprime o tipo de classe que o segundo valor da lista mySecList é"
   ]
  },
  {
   "cell_type": "markdown",
   "id": "f3f77455-d6c4-4a40-979b-4a3a787ab603",
   "metadata": {},
   "source": [
    "## Caminhos = path"
   ]
  },
  {
   "cell_type": "code",
   "execution_count": 42,
   "id": "36b1b2d2-e291-4153-b076-d819a83b63ca",
   "metadata": {},
   "outputs": [
    {
     "name": "stdout",
     "output_type": "stream",
     "text": [
      "C:\\Users\\joseh\\Documents\\GitHub\\ENS5173_202401\n"
     ]
    }
   ],
   "source": [
    "path = r\"C:\\Users\\joseh\\Documents\\GitHub\\ENS5173_202401\" # Cria path, que apresenta o diretório da pasta ENS5173_202401\n",
    "print(path) # Imprime path"
   ]
  },
  {
   "cell_type": "code",
   "execution_count": 43,
   "id": "f6799938-1e10-4a32-b4a3-62eb2dccfe98",
   "metadata": {},
   "outputs": [
    {
     "name": "stdout",
     "output_type": "stream",
     "text": [
      "C:/Users/joseh/Documents/GitHub/ENS5173_202401\n"
     ]
    }
   ],
   "source": [
    "path = \"C:/Users/joseh/Documents/GitHub/ENS5173_202401\" # Cria path, que apresenta o diretório da pasta ENS5173_202401\n",
    "print(path) # Imprime path"
   ]
  },
  {
   "cell_type": "code",
   "execution_count": 45,
   "id": "e468de5a-7905-4fd6-a0fa-6ffe24414665",
   "metadata": {},
   "outputs": [
    {
     "data": {
      "text/plain": [
       "['.git',\n",
       " '.gitignore',\n",
       " '.ipynb_checkpoints',\n",
       " 'Aula01.ipynb',\n",
       " 'dados',\n",
       " 'inputs',\n",
       " 'pyEnv',\n",
       " 'README.md',\n",
       " 'scripts',\n",
       " 'test',\n",
       " 'test2',\n",
       " 'Untitled.ipynb']"
      ]
     },
     "execution_count": 45,
     "metadata": {},
     "output_type": "execute_result"
    }
   ],
   "source": [
    "import os # Importa a biblioteca os que permite mexer no sistema operacional\n",
    "# Listar arquivos na pasta\n",
    "os.listdir(path) # Com a biblioteca os, lista os arquivos da última pasta apresentada no path: ENS5173_202401"
   ]
  },
  {
   "cell_type": "code",
   "execution_count": 46,
   "id": "792ea20f-ae51-433f-b8d4-dd719bc53c63",
   "metadata": {},
   "outputs": [
    {
     "data": {
      "text/plain": [
       "'.git'"
      ]
     },
     "execution_count": 46,
     "metadata": {},
     "output_type": "execute_result"
    }
   ],
   "source": [
    "# Selecionar primeiro arquivo listado\n",
    "os.listdir(path)[0] # Com a biblioteca os, imprime o primeiro arquivo do diretório de path"
   ]
  },
  {
   "cell_type": "code",
   "execution_count": 47,
   "id": "1d063d98-63d2-40ed-86f5-582fb5939c76",
   "metadata": {},
   "outputs": [
    {
     "data": {
      "text/plain": [
       "'C:/Users/joseh/Documents/GitHub/ENS5173_202401/.git'"
      ]
     },
     "execution_count": 47,
     "metadata": {},
     "output_type": "execute_result"
    }
   ],
   "source": [
    "# Concatenando caminhos\n",
    "path+\"/\"+os.listdir(path)[0] # Imprime um caminho do path com o seu primeiro arquivo em seguida"
   ]
  },
  {
   "cell_type": "code",
   "execution_count": 48,
   "id": "b595e26d-4858-48b9-b9e2-028528a6bf8e",
   "metadata": {},
   "outputs": [
    {
     "data": {
      "text/plain": [
       "['COMMIT_EDITMSG',\n",
       " 'config',\n",
       " 'description',\n",
       " 'FETCH_HEAD',\n",
       " 'HEAD',\n",
       " 'hooks',\n",
       " 'index',\n",
       " 'info',\n",
       " 'logs',\n",
       " 'objects',\n",
       " 'packed-refs',\n",
       " 'refs']"
      ]
     },
     "execution_count": 48,
     "metadata": {},
     "output_type": "execute_result"
    }
   ],
   "source": [
    "# Listando caminho concatenado\n",
    "os.listdir(path+\"/\"+os.listdir(path)[0]) # Com a biblioteca os, lista os arquivos do primeiro arquivo da última pasta de path"
   ]
  },
  {
   "cell_type": "code",
   "execution_count": 49,
   "id": "5ee07944-24ec-4da8-9e32-3b69499ea18c",
   "metadata": {},
   "outputs": [
    {
     "data": {
      "text/plain": [
       "'C:\\\\Users\\\\joseh\\\\Documents\\\\GitHub\\\\ENS5173_202401'"
      ]
     },
     "execution_count": 49,
     "metadata": {},
     "output_type": "execute_result"
    }
   ],
   "source": [
    "# Diretório que estou trabalhando\n",
    "os.getcwd() # Imprime o diretório que está sendo trabalhado"
   ]
  },
  {
   "cell_type": "code",
   "execution_count": 51,
   "id": "691fd21b-15bb-4ba8-9c28-a6dc18b66cc9",
   "metadata": {},
   "outputs": [
    {
     "data": {
      "text/plain": [
       "'C:\\\\Users\\\\joseh\\\\Documents'"
      ]
     },
     "execution_count": 51,
     "metadata": {},
     "output_type": "execute_result"
    }
   ],
   "source": [
    "# Mudo de diretório para o caminho\n",
    "os.chdir('C:\\\\Users\\\\joseh\\\\Documents') # Mudar o diretório para Documents\n",
    "os.getcwd() # Imprime o diretório que está sendo trabalhado"
   ]
  },
  {
   "cell_type": "code",
   "execution_count": 53,
   "id": "8c65e008-b413-4e2f-8231-522c0e45be74",
   "metadata": {},
   "outputs": [
    {
     "data": {
      "text/plain": [
       "'C:\\\\Users\\\\joseh\\\\Documents\\\\GitHub\\\\ENS5173_202401'"
      ]
     },
     "execution_count": 53,
     "metadata": {},
     "output_type": "execute_result"
    }
   ],
   "source": [
    "os.chdir('C:\\\\Users\\\\joseh\\\\Documents\\\\GitHub\\\\ENS5173_202401') # Voltar para o diretório de antes\n",
    "os.getcwd() # Imprime o diretório que está sendo trabalhado"
   ]
  },
  {
   "cell_type": "code",
   "execution_count": 55,
   "id": "818a8058-9567-4d9d-8f6a-e89ce7147d50",
   "metadata": {},
   "outputs": [
    {
     "name": "stdout",
     "output_type": "stream",
     "text": [
      "diretório já existe\n"
     ]
    }
   ],
   "source": [
    "# Criando diretório \n",
    "new_path = os.getcwd()+'/test' # Cria um caminho new_path de pasta no diretório que está sendo trabalhado com fim /test\n",
    "\n",
    "if os.path.isdir(new_path): # Teste de lógica, se o caminho new_path já existe como diretório\n",
    "    print('diretório já existe') # Imprime diretório já existe\n",
    "else: # Teste de lógica, se o caminho new_path ainda não existe como diretório\n",
    "    print('Criando diretório '+new_path) # Imprime criando diretório com o nome do diretório em seguida\n",
    "    os.mkdir(new_path) # Com a biblioteca os, cria o diretório new_path"
   ]
  },
  {
   "cell_type": "code",
   "execution_count": 56,
   "id": "8522595c-0d8a-4568-a4f8-67a57d907bf0",
   "metadata": {},
   "outputs": [
    {
     "name": "stdout",
     "output_type": "stream",
     "text": [
      "diretório já existe\n"
     ]
    }
   ],
   "source": [
    "# Criando diretório \n",
    "new_path = os.getcwd()+'/test2' # Cria um caminho new_path de pasta no diretório que está sendo trabalhado com fim /test2\n",
    "\n",
    "if os.path.isdir(new_path): # Teste de lógica, se o caminho new_path já existe como diretório\n",
    "    print('diretório já existe') # Imprime diretório já existe\n",
    "    # Criando um arquivo de texto\n",
    "    with open(new_path+\"/copy.txt\", \"w\") as file: # Abre o diretório e cria um arquivo copy.txt\n",
    "        file.write(\"Your text goes here\") # Escreve \"Your text goes here\" no arquivo copy.txt\n",
    "else: # Teste de lógica, se o caminho new_path ainda não existe como diretório\n",
    "    print('Criando diretório '+new_path) # Imprime criando diretório com o nome do diretório em seguida\n",
    "    os.mkdir(new_path) # Com a biblioteca os, cria o diretório new_path\n",
    "    with open(new_path+\"/copy.txt\", \"w\") as file: # Abre o diretório e cria um arquivo copy.txt\n",
    "        file.write(\"Your text goes here\") # Escreve \"Your text goes here\" no arquivo copy.txt"
   ]
  },
  {
   "cell_type": "markdown",
   "id": "6df9c9eb-a71e-409d-96a7-959ddeb1c7d3",
   "metadata": {},
   "source": [
    "## Numpy arrays e Pandas DataFrames"
   ]
  },
  {
   "cell_type": "code",
   "execution_count": 61,
   "id": "43d83dbf-312c-4ede-94bb-40b74823e80b",
   "metadata": {},
   "outputs": [
    {
     "data": {
      "text/plain": [
       "numpy.ndarray"
      ]
     },
     "execution_count": 61,
     "metadata": {},
     "output_type": "execute_result"
    }
   ],
   "source": [
    "import numpy as np # Importa a biblioteca numpy como np\n",
    "# Criando uma variável numpy\n",
    "n = np.array(0)  # Cria n como uma variável numpy\n",
    "type(n) # Imprime o tipo de variável que n é"
   ]
  },
  {
   "cell_type": "code",
   "execution_count": 63,
   "id": "9aad3efb-383b-43ac-bf21-46e05317c556",
   "metadata": {},
   "outputs": [
    {
     "name": "stdout",
     "output_type": "stream",
     "text": [
      "[ 1  2  3 10 20 55]\n"
     ]
    }
   ],
   "source": [
    "# Criando uma variável numpy a partir de uma lista\n",
    "myThirdList=[1,2,3,10,20,55] # Cria uma lista com nome myThirdList com valores 1, 2, 3, 10, 20, 55\n",
    "n = np.array(myThirdList) # Cria uma variável n com o numpy a partir de myThirdList\n",
    "print(n) # Imprime a variável n"
   ]
  },
  {
   "cell_type": "code",
   "execution_count": 64,
   "id": "b13d6574-07cf-4b63-90bd-adebdbc89416",
   "metadata": {},
   "outputs": [
    {
     "name": "stdout",
     "output_type": "stream",
     "text": [
      "[[1.61073938e-01 3.36358955e-01 4.51688692e-01 9.38731366e-01\n",
      "  7.01040395e-01 9.75963545e-01 6.63680887e-01 9.46486724e-01\n",
      "  4.53725588e-01 7.24752363e-01]\n",
      " [9.79098664e-01 2.22388733e-01 6.77277550e-01 5.38255454e-01\n",
      "  2.64375439e-01 1.68606409e-01 5.50497285e-01 8.40491210e-01\n",
      "  9.95824096e-01 3.21615317e-02]\n",
      " [5.58852739e-01 7.46613704e-02 1.86133237e-01 2.46568637e-02\n",
      "  1.52793064e-01 7.60786875e-01 1.02620049e-01 1.87014400e-01\n",
      "  3.87908679e-01 3.14897014e-01]\n",
      " [5.71039308e-02 9.83580873e-01 7.40250177e-01 8.76593532e-01\n",
      "  1.36744012e-01 4.95836906e-01 4.80858461e-01 5.38155044e-04\n",
      "  4.70161151e-01 5.54710469e-01]\n",
      " [2.09022060e-01 6.13047395e-02 1.26934173e-01 5.15694877e-01\n",
      "  7.99322469e-01 9.62624741e-01 8.83376770e-01 1.59340524e-02\n",
      "  3.81999754e-02 6.02851802e-01]\n",
      " [5.19211653e-01 5.84919902e-01 7.99623522e-01 4.49437946e-01\n",
      "  9.60092279e-01 1.77303462e-01 5.79159833e-01 2.12457816e-01\n",
      "  3.98353712e-02 7.09627232e-01]\n",
      " [3.86299604e-01 2.37050511e-01 9.26204881e-01 8.39598055e-01\n",
      "  2.56389248e-01 4.29283072e-01 6.11180351e-01 4.56914097e-01\n",
      "  9.93640661e-01 6.89419760e-01]\n",
      " [1.59842862e-01 7.10866224e-01 3.03813405e-01 1.39406058e-01\n",
      "  5.38947855e-01 9.12266036e-01 5.31138725e-01 3.15077489e-02\n",
      "  2.01239890e-01 2.80059991e-01]\n",
      " [9.72737181e-01 3.47706912e-02 3.71297602e-01 6.94372644e-01\n",
      "  4.07879485e-01 7.83357196e-01 6.64227692e-01 4.79297033e-01\n",
      "  4.61644689e-01 2.68700680e-01]\n",
      " [3.64425417e-01 4.50627542e-01 3.54790531e-01 3.43049632e-01\n",
      "  3.20670331e-01 1.18645131e-01 6.92918058e-03 8.52058610e-01\n",
      "  4.64736482e-01 3.82232902e-01]]\n",
      "(10, 10)\n"
     ]
    }
   ],
   "source": [
    "# Criando uma matriz de 10x10 de números aleatórios entre 0 e 1\n",
    "n = np.random.rand(10,10) # Cria uma matriz de 10x10 através da biblioteca numpy com números aleatórios entre 0 e 1\n",
    "print(n) # Imprime a variável n que é uma matriz\n",
    "# Dimensões da matrix\n",
    "print(n.shape) # Imprime as dimensões da variável n"
   ]
  },
  {
   "cell_type": "code",
   "execution_count": 65,
   "id": "9354ce69-1ead-41fc-84c9-378929f101fe",
   "metadata": {},
   "outputs": [
    {
     "data": {
      "text/plain": [
       "array([0.16107394, 0.33635895, 0.45168869, 0.93873137, 0.70104039,\n",
       "       0.97596354, 0.66368089, 0.94648672, 0.45372559, 0.72475236])"
      ]
     },
     "execution_count": 65,
     "metadata": {},
     "output_type": "execute_result"
    }
   ],
   "source": [
    "# Acessando valores da matriz\n",
    "n[0,:] # Imprime a primeira linha da variável n, com o valor de todas as colunas"
   ]
  },
  {
   "cell_type": "code",
   "execution_count": 66,
   "id": "427d7185-599f-43d5-8fdf-ee7ec5982a6d",
   "metadata": {},
   "outputs": [
    {
     "data": {
      "text/plain": [
       "array([0.16107394, 0.97909866, 0.55885274, 0.05710393, 0.20902206,\n",
       "       0.51921165, 0.3862996 , 0.15984286, 0.97273718, 0.36442542])"
      ]
     },
     "execution_count": 66,
     "metadata": {},
     "output_type": "execute_result"
    }
   ],
   "source": [
    "n[:,0] # Imprime a primeira coluna da variável n, com o valor de todas as linhas"
   ]
  },
  {
   "cell_type": "code",
   "execution_count": 70,
   "id": "2bbf6e43-f403-4166-a629-f0c67bff7227",
   "metadata": {},
   "outputs": [
    {
     "data": {
      "text/plain": [
       "array([[0.33635895, 0.45168869, 0.93873137, 0.70104039],\n",
       "       [0.22238873, 0.67727755, 0.53825545, 0.26437544],\n",
       "       [0.07466137, 0.18613324, 0.02465686, 0.15279306],\n",
       "       [0.98358087, 0.74025018, 0.87659353, 0.13674401],\n",
       "       [0.06130474, 0.12693417, 0.51569488, 0.79932247],\n",
       "       [0.5849199 , 0.79962352, 0.44943795, 0.96009228],\n",
       "       [0.23705051, 0.92620488, 0.83959806, 0.25638925],\n",
       "       [0.71086622, 0.3038134 , 0.13940606, 0.53894785],\n",
       "       [0.03477069, 0.3712976 , 0.69437264, 0.40787949],\n",
       "       [0.45062754, 0.35479053, 0.34304963, 0.32067033]])"
      ]
     },
     "execution_count": 70,
     "metadata": {},
     "output_type": "execute_result"
    }
   ],
   "source": [
    "n[:,1:5] # Imprime todas as linhas da variável n, da segundo coluna até a quinta coluna"
   ]
  },
  {
   "cell_type": "code",
   "execution_count": 71,
   "id": "dfb27626-25f7-4852-9b31-fef793018206",
   "metadata": {},
   "outputs": [
    {
     "data": {
      "text/plain": [
       "array([0.33635895, 0.45168869, 0.93873137, 0.70104039])"
      ]
     },
     "execution_count": 71,
     "metadata": {},
     "output_type": "execute_result"
    }
   ],
   "source": [
    "n[0,1:5] # Imprime a primeira linha da variável n, da segundo coluna até a quinta coluna"
   ]
  },
  {
   "cell_type": "code",
   "execution_count": 72,
   "id": "61723d48-eea2-46fa-9924-e655f69d1382",
   "metadata": {},
   "outputs": [
    {
     "data": {
      "text/plain": [
       "0.724752363457533"
      ]
     },
     "execution_count": 72,
     "metadata": {},
     "output_type": "execute_result"
    }
   ],
   "source": [
    "\n",
    "n[0,-1] # Imprime o valor da célula da primeira linha da variável n, localizado na última coluna"
   ]
  },
  {
   "cell_type": "code",
   "execution_count": 74,
   "id": "90f4afcb-5e90-4a3e-9222-a899efd44e66",
   "metadata": {},
   "outputs": [
    {
     "data": {
      "text/plain": [
       "array([0.70104039, 0.97596354, 0.66368089, 0.94648672, 0.45372559])"
      ]
     },
     "execution_count": 74,
     "metadata": {},
     "output_type": "execute_result"
    }
   ],
   "source": [
    "n[0,4:-1] # Imprime a primeira linha da variável n, com o valor da quinta coluna até a nona"
   ]
  },
  {
   "cell_type": "code",
   "execution_count": 75,
   "id": "bbc26e88-47da-4632-8553-ef692e80ef0f",
   "metadata": {},
   "outputs": [
    {
     "data": {
      "text/plain": [
       "array([0.70104039, 0.97596354, 0.66368089, 0.94648672, 0.45372559,\n",
       "       0.72475236])"
      ]
     },
     "execution_count": 75,
     "metadata": {},
     "output_type": "execute_result"
    }
   ],
   "source": [
    "n[0,4:] # Imprime a primeira linha da variável n, com o valor da quinta coluna até a última"
   ]
  },
  {
   "cell_type": "code",
   "execution_count": 77,
   "id": "435fc9ad-cb42-4777-ae18-f930a5868bff",
   "metadata": {},
   "outputs": [
    {
     "name": "stdout",
     "output_type": "stream",
     "text": [
      "[[-0.21645386  0.51986154  0.81467584  1.54621199  1.25424814  1.58510787\n",
      "   1.19948408  1.55443958  0.81917522  1.28751266]\n",
      " [ 1.58831505  0.10610953  1.21976379  0.9900159   0.27905284 -0.17075031\n",
      "   1.01250466  1.43566913  1.60525327 -1.8275463 ]\n",
      " [ 1.02756864 -0.98535454 -0.07185462 -2.09326206 -0.26923288  1.33603589\n",
      "  -0.66728404 -0.06713175  0.66245258  0.45392828]\n",
      " [-1.25344441  1.5928825   1.30867084  1.47772604 -0.38020672  0.90792969\n",
      "   0.8772556  -5.91792594  0.85475814  1.02012893]\n",
      " [ 0.04412243 -1.18246021 -0.45464874  0.9471979   1.38544709  1.57134629\n",
      "   1.48543444 -2.52985889 -1.65548249  1.10335403]\n",
      " [ 0.95399424  1.07315755  1.38582365  0.80968043  1.56871204 -0.12045463\n",
      "   1.06326112  0.06042609 -1.61356213  1.26642244]\n",
      " [ 0.65829588  0.16995588  1.5327781   1.43460591  0.24837942  0.76379918\n",
      "   1.11707472  0.82617804  1.60305827  1.23753295]\n",
      " [-0.22412615  1.26816689  0.41809635 -0.36092641  0.99130146  1.51761429\n",
      "   0.97670587 -1.84808385  0.00618031  0.33668647]\n",
      " [ 1.58179657 -1.74954254  0.61868654  1.2446914   0.71265438  1.36527141\n",
      "   1.20030763  0.87400315  0.83647816  0.29528068]\n",
      " [ 0.60000455  0.81232378  0.5732102   0.53955777  0.47209622 -0.52218042\n",
      "  -3.3625758   1.44933795  0.84315317  0.64771275]]\n"
     ]
    }
   ],
   "source": [
    "an = np.log(n*5) # Cria uma matriz com nome an com os valores das células da matriz n como o logaritmo natural do valor de 5 multiplicado por cada célula\n",
    "print(an) # Imprime a matriz an"
   ]
  },
  {
   "cell_type": "code",
   "execution_count": null,
   "id": "c6950796-c3cd-4f02-b39f-09561d73af65",
   "metadata": {},
   "outputs": [],
   "source": []
  }
 ],
 "metadata": {
  "kernelspec": {
   "display_name": "Python 3 (ipykernel)",
   "language": "python",
   "name": "python3"
  },
  "language_info": {
   "codemirror_mode": {
    "name": "ipython",
    "version": 3
   },
   "file_extension": ".py",
   "mimetype": "text/x-python",
   "name": "python",
   "nbconvert_exporter": "python",
   "pygments_lexer": "ipython3",
   "version": "3.11.8"
  }
 },
 "nbformat": 4,
 "nbformat_minor": 5
}
